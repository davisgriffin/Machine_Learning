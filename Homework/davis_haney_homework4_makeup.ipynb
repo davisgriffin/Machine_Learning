{
 "cells": [
  {
   "cell_type": "markdown",
   "metadata": {},
   "source": [
    "# Homework 4 Makeup\n",
    "> Griffin Davis and Sydnee Haney"
   ]
  },
  {
   "cell_type": "code",
   "execution_count": 13,
   "metadata": {},
   "outputs": [
    {
     "name": "stdout",
     "output_type": "stream",
     "text": [
      "4.543910487654583e-05\n",
      "0.999954519621495\n",
      "0.999954519621495\n",
      "4.543910487654591e-05\n"
     ]
    }
   ],
   "source": [
    "import numpy as np\n",
    "\n",
    "AND_WEIGHT = [-30, 20, 20]\n",
    "NAND_WEIGHT = [30, -20, -20]\n",
    "OR_WEIGHT = [-10, 20, 20]\n",
    "\n",
    "def sigmoid(z):\n",
    "    return 1/(1 + np.exp(-z))\n",
    "\n",
    "def sum_weights(layer_weights, prev_layer_weights):\n",
    "    return np.dot(layer_weights, prev_layer_weights)\n",
    "\n",
    "def XOR(x1, x2):\n",
    "    input_layer = [1, x1, x2]\n",
    "    NAND = sigmoid(sum_weights(NAND_WEIGHT, input_layer))\n",
    "    OR = sigmoid(sum_weights(OR_WEIGHT, input_layer))\n",
    "    XOR = sigmoid(sum_weights(AND_WEIGHT, [1, NAND, OR]))\n",
    "    return XOR\n",
    "\n",
    "print(XOR(0, 0))\n",
    "print(XOR(0, 1))\n",
    "print(XOR(1, 0))\n",
    "print(XOR(1, 1))"
   ]
  }
 ],
 "metadata": {
  "interpreter": {
   "hash": "2be5faf79681da6f2a61fdfdd5405d65d042280f7fba6178067603e3a2925119"
  },
  "kernelspec": {
   "display_name": "Python 3.10.2 64-bit",
   "language": "python",
   "name": "python3"
  },
  "language_info": {
   "codemirror_mode": {
    "name": "ipython",
    "version": 3
   },
   "file_extension": ".py",
   "mimetype": "text/x-python",
   "name": "python",
   "nbconvert_exporter": "python",
   "pygments_lexer": "ipython3",
   "version": "3.10.2"
  },
  "orig_nbformat": 4
 },
 "nbformat": 4,
 "nbformat_minor": 2
}
